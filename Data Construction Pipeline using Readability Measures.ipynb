{
 "cells": [
  {
   "cell_type": "code",
   "execution_count": null,
   "metadata": {},
   "outputs": [],
   "source": [
    "import os\n",
    "import numpy as np\n",
    "import pandas as pd"
   ]
  },
  {
   "cell_type": "code",
   "execution_count": null,
   "metadata": {},
   "outputs": [],
   "source": [
    "#Import the annuals.PY file (This contains some PDF-to-text() and the text_cleaning() functions)\n",
    "import annuals as an\n"
   ]
  },
  {
   "cell_type": "code",
   "execution_count": null,
   "metadata": {},
   "outputs": [],
   "source": [
    "#Set to the directory containing the folder \"Banks\".\n",
    "#The Banks folder contains multiple subfolders with the names of the Banks, e.g. Dhanalakshmi, Lakshmi Vilas \n",
    "#Each Subfolder contains 2 subfolders, viz, \"Auditor Report\" & \"Director Report\".\n",
    "\n",
    "os.chdir(r\"C:\\Users\\goura\\Documents\\000. Research\\Catching the sentiments of the Annual Reports\")\n"
   ]
  },
  {
   "cell_type": "code",
   "execution_count": null,
   "metadata": {},
   "outputs": [],
   "source": [
    "#Path should contain \"\\\\\" intead of \"\\\" or \"/\"\n",
    "import textstat\n",
    "\n",
    "def readability(path, bank_name, report):\n",
    "    \"\"\"\n",
    "    path = The path of the \"Banks\" folder\n",
    "    bank_name = Name of the Bank of interest (same as its folder name)\n",
    "    report = \"Auditor Report\" or \"Director Report\"\n",
    "    \"\"\"\n",
    "    \n",
    "    #This sets the link to the folder containing the reports in PDF\n",
    "    link = path + \"\\\\\" + bank_name + \"\\\\\" + report\n",
    "    os.chdir(link)\n",
    "    \n",
    "    #Initialing a dictionary with empty list as values. This will be later converted to a data frame\n",
    "    read_scores = {\"Year\": [], \"Flesch-Kincaid\": [], \"Gunning\": [], \"SMOG\": [], \"ARI\": [], \"CLI\": [], \"Linsear\": [], \"DC\": [], \"Standard\":[]}\n",
    "\n",
    "    for file in os.listdir():\n",
    "        if \".pdf\" in file:\n",
    "            document = an.PDF2text(file)\n",
    "            cleaned_file = an.cleaning_pipeline(document)\n",
    "\n",
    "            if len(cleaned_file) != 0:\n",
    "                #Readibility scores\n",
    "                read_scores[\"Flesch-Kincaid\"].append(textstat.flesch_kincaid_grade(cleaned_file))\n",
    "                read_scores[\"Gunning\"].append(textstat.gunning_fog(cleaned_file))\n",
    "                read_scores[\"SMOG\"].append(textstat.smog_index(cleaned_file))\n",
    "                read_scores[\"ARI\"].append(textstat.automated_readability_index(cleaned_file))\n",
    "                read_scores[\"CLI\"].append(textstat.coleman_liau_index(cleaned_file))\n",
    "                read_scores[\"Linsear\"].append(textstat.linsear_write_formula(cleaned_file))\n",
    "                read_scores[\"DC\"].append(textstat.dale_chall_readability_score(cleaned_file))\n",
    "                read_scores[\"Standard\"].append(textstat.text_standard(cleaned_file)) \n",
    "                #Year\n",
    "                read_scores[\"Year\"].append(int(file[file.find(\"_\")+1:file.find(\"-\")]))\n",
    "            else:\n",
    "                read_scores[\"Flesch-Kincaid\"].append(np.NaN)\n",
    "                read_scores[\"Gunning\"].append(np.NaN)\n",
    "                read_scores[\"SMOG\"].append(np.NaN)\n",
    "                read_scores[\"ARI\"].append(np.NaN)\n",
    "                read_scores[\"CLI\"].append(np.NaN)\n",
    "                read_scores[\"Linsear\"].append(np.NaN)\n",
    "                read_scores[\"DC\"].append(np.NaN)\n",
    "                read_scores[\"Standard\"].append(np.NaN)  \n",
    "                read_scores[\"Year\"].append(int(file[file.find(\"_\")+1:file.find(\"-\")]))\n",
    "            print(file)\n",
    "    \n",
    "    #Converting the read_scores dictionary to a dataframe\n",
    "    df = pd.DataFrame(read_scores)\n",
    "    df[\"Bank\"] = bank_name\n",
    "    df[\"Report\"] = report\n",
    "    return(df)\n"
   ]
  },
  {
   "cell_type": "code",
   "execution_count": null,
   "metadata": {},
   "outputs": [],
   "source": [
    "#Usage of the function readability\n",
    "path = \"C:\\\\Users\\\\goura\\Documents\\\\000. Research\\\\Catching the sentiments of the Annual Reports\\\\Bank\"\n",
    "bank = \"Dhanalakshmi\"\n",
    "\n",
    "choice = int(input(\"1 or 0: \"))\n",
    "if choice == 1:\n",
    "    report = \"Director Report\"\n",
    "else:\n",
    "    report = \"Auditor Report\"\n",
    "    \n",
    "readability(path, bank, report)"
   ]
  },
  {
   "cell_type": "code",
   "execution_count": null,
   "metadata": {},
   "outputs": [],
   "source": []
  }
 ],
 "metadata": {
  "kernelspec": {
   "display_name": "Python 3",
   "language": "python",
   "name": "python3"
  },
  "language_info": {
   "codemirror_mode": {
    "name": "ipython",
    "version": 3
   },
   "file_extension": ".py",
   "mimetype": "text/x-python",
   "name": "python",
   "nbconvert_exporter": "python",
   "pygments_lexer": "ipython3",
   "version": "3.8.5"
  }
 },
 "nbformat": 4,
 "nbformat_minor": 4
}
